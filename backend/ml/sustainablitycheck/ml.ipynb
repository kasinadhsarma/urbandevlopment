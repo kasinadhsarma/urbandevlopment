{
 "cells": [
  {
   "cell_type": "markdown",
   "metadata": {},
   "source": [
    "# Sustainability Metrics ML Project\n",
    "\n",
    "## Step 1: Create Synthetic Dataset\n",
    "\n"
   ]
  },
  {
   "cell_type": "code",
   "execution_count": null,
   "metadata": {},
   "outputs": [],
   "source": [
    "import pandas as pd\n",
    "import numpy as np\n",
    "\n",
    "# Create a synthetic dataset\n",
    "np.random.seed(42)\n",
    "num_samples = 1000\n",
    "\n",
    "data = {\n",
    "    'population_density': np.random.randint(100, 1000, num_samples),  # People per square kilometer\n",
    "    'industrial_zones': np.random.randint(0, 50, num_samples),  # Number of industrial zones\n",
    "    'public_transport': np.random.randint(0, 100, num_samples),  % of population using public transport\n",
    "    'renewable_investment': np.random.randint(0, 100, num_samples),  % of budget allocated to renewable energy\n",
    "    'carbon_footprint': np.random.uniform(10, 20, num_samples),  # Tons CO2e per capita\n",
    "    'green_space_coverage': np.random.uniform(10, 30, num_samples),  % of total city area\n",
    "    'renewable_energy_usage': np.random.uniform(20, 50, num_samples)  % of total energy consumption\n",
    "}\n",
    "\n",
    "# Create DataFrame\n",
    "df = pd.DataFrame(data)\n",
    "\n",
    "# Save to CSV\n",
    "df.to_csv('sustainability_data.csv', index=False)\n",
    "print(\"Synthetic dataset created and saved to sustainability_data.csv.\")\n"
   ]
  },
  {
   "cell_type": "code",
   "execution_count": 6,
   "metadata": {},
   "outputs": [
    {
     "name": "stdout",
     "output_type": "stream",
     "text": [
      "Carbon Footprint MAE: 2.6191481548618416\n",
      "Green Space Coverage MAE: 5.166277146166188\n",
      "Renewable Energy Usage MAE: 8.340150421794624\n",
      "Models trained and saved.\n"
     ]
    }
   ],
   "source": [
    "from sklearn.ensemble import RandomForestRegressor\n",
    "from sklearn.model_selection import train_test_split\n",
    "from sklearn.metrics import mean_absolute_error\n",
    "import joblib\n",
    "import pandas as pd\n",
    "# Load the dataset\n",
    "df = pd.read_csv('sustainability_data.csv')\n",
    "\n",
    "# Prepare features and targets\n",
    "X = df[['population_density', 'industrial_zones', 'public_transport', 'renewable_investment']]\n",
    "y_carbon = df['carbon_footprint']\n",
    "y_green = df['green_space_coverage']\n",
    "y_renewable = df['renewable_energy_usage']\n",
    "\n",
    "# Split the data\n",
    "X_train, X_test, y_carbon_train, y_carbon_test = train_test_split(X, y_carbon, test_size=0.2, random_state=42)\n",
    "_, _, y_green_train, y_green_test = train_test_split(X, y_green, test_size=0.2, random_state=42)\n",
    "_, _, y_renewable_train, y_renewable_test = train_test_split(X, y_renewable, test_size=0.2, random_state=42)\n",
    "\n",
    "# Train models\n",
    "carbon_model = RandomForestRegressor(n_estimators=100, random_state=42)\n",
    "carbon_model.fit(X_train, y_carbon_train)\n",
    "\n",
    "green_model = RandomForestRegressor(n_estimators=100, random_state=42)\n",
    "green_model.fit(X_train, y_green_train)\n",
    "\n",
    "renewable_model = RandomForestRegressor(n_estimators=100, random_state=42)\n",
    "renewable_model.fit(X_train, y_renewable_train)\n",
    "\n",
    "# Evaluate models\n",
    "carbon_pred = carbon_model.predict(X_test)\n",
    "carbon_mae = mean_absolute_error(y_carbon_test, carbon_pred)\n",
    "\n",
    "green_pred = green_model.predict(X_test)\n",
    "green_mae = mean_absolute_error(y_green_test, green_pred)\n",
    "\n",
    "renewable_pred = renewable_model.predict(X_test)\n",
    "renewable_mae = mean_absolute_error(y_renewable_test, renewable_pred)\n",
    "\n",
    "print(f\"Carbon Footprint MAE: {carbon_mae}\")\n",
    "print(f\"Green Space Coverage MAE: {green_mae}\")\n",
    "print(f\"Renewable Energy Usage MAE: {renewable_mae}\")\n",
    "\n",
    "# Save models\n",
    "joblib.dump(carbon_model, 'carbon_model.pkl')\n",
    "joblib.dump(green_model, 'green_model.pkl')\n",
    "joblib.dump(renewable_model, 'renewable_model.pkl')\n",
    "print(\"Models trained and saved.\")"
   ]
  },
  {
   "cell_type": "code",
   "execution_count": 7,
   "metadata": {},
   "outputs": [
    {
     "name": "stdout",
     "output_type": "stream",
     "text": [
      "Predicted Carbon Footprint: 16.48 tons CO2e per capita\n",
      "Predicted Green Space Coverage: 16.35%\n",
      "Predicted Renewable Energy Usage: 35.56%\n"
     ]
    }
   ],
   "source": [
    "# Load the trained models\n",
    "carbon_model = joblib.load('carbon_model.pkl')\n",
    "green_model = joblib.load('green_model.pkl')\n",
    "renewable_model = joblib.load('renewable_model.pkl')\n",
    "\n",
    "# Example input data\n",
    "input_data = {\n",
    "    'population_density': 500,\n",
    "    'industrial_zones': 20,\n",
    "    'public_transport': 70,\n",
    "    'renewable_investment': 50\n",
    "}\n",
    "\n",
    "# Convert input data to DataFrame\n",
    "input_df = pd.DataFrame([input_data])\n",
    "\n",
    "# Make predictions\n",
    "carbon_footprint = carbon_model.predict(input_df)[0]\n",
    "green_space_coverage = green_model.predict(input_df)[0]\n",
    "renewable_energy_usage = renewable_model.predict(input_df)[0]\n",
    "\n",
    "print(f\"Predicted Carbon Footprint: {carbon_footprint:.2f} tons CO2e per capita\")\n",
    "print(f\"Predicted Green Space Coverage: {green_space_coverage:.2f}%\")\n",
    "print(f\"Predicted Renewable Energy Usage: {renewable_energy_usage:.2f}%\")"
   ]
  }
 ],
 "metadata": {
  "kernelspec": {
   "display_name": "Python 3",
   "language": "python",
   "name": "python3"
  },
  "language_info": {
   "codemirror_mode": {
    "name": "ipython",
    "version": 3
   },
   "file_extension": ".py",
   "mimetype": "text/x-python",
   "name": "python",
   "nbconvert_exporter": "python",
   "pygments_lexer": "ipython3",
   "version": "3.10.12"
  }
 },
 "nbformat": 4,
 "nbformat_minor": 2
}
